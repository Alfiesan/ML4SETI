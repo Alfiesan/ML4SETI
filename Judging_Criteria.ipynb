{
 "cells": [
  {
   "cell_type": "markdown",
   "metadata": {},
   "source": [
    "# Judging Information\n",
    "\n",
    "This document explains how the judging will be done for the \"Best Classification\" system. \n",
    "\n",
    "**Read the [Step 1: Get Data tutorial](tutorials/Step_1_Get_Data.ipynb#Test-Data-Set) for information on where to get the training and test data sets. **\n",
    "\n",
    "<br>"
   ]
  },
  {
   "cell_type": "markdown",
   "metadata": {},
   "source": [
    "\n",
    "## Generate CSV File with Scores\n",
    "\n",
    "Your job is to create a CSV file that holds the scores for each of the signals found in the test data set. \n",
    "\n",
    "**Each line of your CSV file \"Scorecard\", will contain the signal's UUID, followed by scores for each signal class. The order of the scores is absolutely critical.** \n",
    "\n",
    "*The signal class with the highest score would be your model's class estimation. Typically these scores are the probability estimates for each class.*\n",
    " \n",
    "For each data file in the test set, generate the appropriate spectrogram, and then pass that to your signal classifier (machine-learning model) to calculate the scores for each class.  \n",
    "\n",
    "For example, each line your the CSV scorecard file should look something like:\n",
    "\n",
    "  * `abdefgadbc1223234123123cvaf, 0.1, 0.023, 0.451, 0.232, 0.001, 0.07, 0.0083`\n",
    "\n",
    "### THE COLUMN ORDER IS ABSOLUTELY CRITICAL! \n",
    "\n",
    "THE ORDER OF THE SCORES IN EACH ROW OF YOUR CSV FILE MUST BE:\n",
    "\n",
    "  * `brightpixel, narrowband, narrowbanddrd, noise, squarepulsednarrowband, squiggle, squigglesquarepulsednarrowband`\n",
    "\n",
    "This is in alphabetical order.\n",
    "\n",
    "\n",
    "#### Example PseudoCode"
   ]
  },
  {
   "cell_type": "code",
   "execution_count": null,
   "metadata": {
    "collapsed": true
   },
   "outputs": [],
   "source": [
    "import ibmseti\n",
    "import csv\n",
    "import ALL LIBS FOR YOUR CLASSIFIER (tensorflow, Watson, etc)\n",
    "\n",
    "my_model #this is your trained signal classification model\n",
    "my_output_results = mydatafolder + '/signal_class_results.csv'\n",
    "zz = zipfile.ZipFile(mydatafolder + '/' + 'primary_testset_preview_v3.zip')\n",
    "\n",
    "for fn in zz.namelist():\n",
    "    data = zz.open(fn).read()\n",
    "    aca = ibmseti.compamp.SimCompamp(data)\n",
    "    uuid = aca.header()['uuid']\n",
    "    spectrogram = draw_spectrogram(aca) #whatever signal processing code you need would go in your `draw_spectrogram` code\n",
    "    \n",
    "    #cr = class results. In this example, it's a dictionary. But in your experience it could be something else\n",
    "    #       like a simple list.\n",
    "    cr = my_model.classify(spectrogram)\n",
    "    \n",
    "    with open(my_output_results, 'a') as csvfile:\n",
    "        fwriter = csv.writer(csvfile, delimiter=',')\n",
    "        fwrite.writerow([uuid, cr['brightpixel'], cr['narrowband'], cr['narrowbanddrd'],\n",
    "                         cr['noise'], cr['squarepulsednarrowband'], cr['squiggle'],\n",
    "                         cr['squigglesquarepulsednarrowband']\n",
    "                        ])"
   ]
  },
  {
   "cell_type": "markdown",
   "metadata": {},
   "source": [
    "# Team Signup to Scoreboard\n",
    "\n",
    "The Scoreboard for the [Preview Test is here.](https://compete.cognitiveclass.ai/event/5956ce1013880a001fd89bd6). You can submit up to 10 scorecards to this scoreboard. Also, the Preview test set UUID,class labels are now found in the `results` folder of this repository. The `results` folder also contains some code that you can use to score your own scorecard. (This means you can submit a perfect score to the Preview scoreboard -- but please don't do this. Your score will be deleted.)\n",
    "\n",
    "The Scoreboard for the [Final Test is here.](https://compete.cognitiveclass.ai/event/5957f1ec13880a001fd89bd7). You can submit only one scorecard to this scoreboard. The UUID,class labels for the final test set will not be published and you can use this as a final test of your model. \n",
    "\n",
    "[Please read this walkthrough](tutorials/competitions-walkthrough.pdf) to sign up for the Scoreboard system, form your team, and submit an example result.  An example scorecard is found below.\n",
    "\n",
    "\n"
   ]
  },
  {
   "cell_type": "markdown",
   "metadata": {},
   "source": [
    "### Example Scorecard for Preview Testset and Scoreboard\n",
    "\n",
    "The scores in this example file are random values between 0 and 1. Typically, your scores will be your classification model's estimate of probability for each class. (As such, they would sum to 1.0. However, to be sure, the Log-loss calculator in our Scoreboard will normalize your score to ensure the values sum to 1.0.)\n",
    "\n",
    "[Example Preview Test Set Scorecard](https://ibm.box.com/shared/static/8zogekaxnqwu91c044u6ftt4br68i4pi.csv)\n",
    "\n",
    "With this scorecard, you should get the exact same values as \"TeamRandom\" that is currently on the **Preview Scoreboard**. \n",
    "\n",
    "\n",
    "### Measured by Logistical Loss\n",
    "\n",
    "In this contest we are using the [Log-Loss function](http://scikit-learn.org/stable/modules/generated/sklearn.metrics.log_loss.html) as a measure of your model's performance.  \n",
    "<br>"
   ]
  },
  {
   "cell_type": "markdown",
   "metadata": {},
   "source": [
    "\n",
    "#### Retrieving your CSV File from IBM DSX\n",
    "\n",
    "If you are running your analysis on IBM DSX (IBM Apache Spark), you'll need to get your `.csv` file to a local machine in order to submit your results to the Scoreboard.\n",
    "\n",
    "One way is to move your `.csv` file to your Object Storage account that is provided in DSX.\n",
    "[This tutorial shows you the basic steps to move data to and from your Object Storage instance.](tutorials/General_move_data_to_from_Object_Storage.ipynb)  \n",
    "\n",
    "Then, from DSX (or Bluemix), navigate to your Object Storage container and you can download the file to your local machine with a click. \n",
    "\n",
    "Another good option is to use [Pixiedust](https://github.com/ibm-watson-data-lab/pixiedust). Among the many features of Pixiedust, you can load a `.csv` file into a Pandas or Spark DataFrame and Pixiedust will display that data in your Jupyter notebook. From the display, there is an icon that lets you download the data directly. This is probably the easier option, though you will need to \"`pip install --user pixiedust`\" and restart your kernel.\n",
    "\n"
   ]
  },
  {
   "cell_type": "code",
   "execution_count": null,
   "metadata": {
    "collapsed": true
   },
   "outputs": [],
   "source": []
  }
 ],
 "metadata": {
  "kernelspec": {
   "display_name": "Python 2",
   "language": "python",
   "name": "python2"
  },
  "language_info": {
   "codemirror_mode": {
    "name": "ipython",
    "version": 2
   },
   "file_extension": ".py",
   "mimetype": "text/x-python",
   "name": "python",
   "nbconvert_exporter": "python",
   "pygments_lexer": "ipython2",
   "version": "2.7.13"
  }
 },
 "nbformat": 4,
 "nbformat_minor": 2
}
